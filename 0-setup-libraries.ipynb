{
 "cells": [
  {
   "cell_type": "markdown",
   "metadata": {},
   "source": [
    "Setup Instructions\n",
    "==========\n",
    "\n",
    "These instructions install `miniconda` and the requisite libraries for the tutorial in a `conda` environment, which are indepenent python installation.\n",
    "\n",
    "Jupyter has the similar concept of _kernels_, which are independent execution environments. They don't even have to be Python, kernels for other languages exist as well.\n",
    "\n",
    "By loading a separate kernel for each project, we avoid the complication of different components/projects having weird interactions, ultimately helping reproducibility.\n",
    "\n",
    "We first produce a new conda environment with the libraries we require, then we tell Jupyter about this new environment with the ipython executable\n",
    "\n",
    "NOTE: This step may take a little while"
   ]
  },
  {
   "cell_type": "code",
   "execution_count": null,
   "metadata": {
    "scrolled": true
   },
   "outputs": [],
   "source": [
    "%%bash\n",
    "#!/bin/bash\n",
    "\n",
    "KERNEL_NAME=\"machine-learning-hats-2020\"\n",
    "\n",
    "set -e\n",
    "wget https://repo.anaconda.com/miniconda/Miniconda3-latest-Linux-x86_64.sh -O $HOME/miniconda3.sh\n",
    "bash $HOME/miniconda3.sh -b -f -u -p $HOME/miniconda3\n",
    "source $HOME/miniconda3/etc/profile.d/conda.sh\n",
    "conda env create -f environment.yml --name $KERNEL_NAME\n",
    "conda activate $KERNEL_NAME\n",
    "\n",
    "# Make a wrapper script to load miniconda python\n",
    "cat << 'EOF' > python_wrapper.sh\n",
    "#!/bin/bash\n",
    "source $HOME/miniconda3/etc/profile.d/conda.sh\n",
    "conda activate machine-learning-hats-2020\n",
    "exec python \"$@\"\n",
    "EOF\n",
    "chmod +x python_wrapper.sh\n",
    "\n",
    "# Create the kernel\n",
    "mkdir -p \"$HOME/.local/share/jupyter/kernels/$KERNEL_NAME\"\n",
    "cat << EOF > \"$HOME/.local/share/jupyter/kernels/$KERNEL_NAME/kernel.json\"\n",
    "{\n",
    " \"display_name\": \"$KERNEL_NAME\", \n",
    " \"language\": \"python\", \n",
    " \"argv\": [\n",
    "  \"$PWD/python_wrapper.sh\", \n",
    "  \"-m\", \n",
    "  \"ipykernel_launcher\", \n",
    "  \"-f\", \n",
    "  \"{connection_file}\"\n",
    " ]\n",
    "}\n",
    "EOF\n",
    "\n",
    "# Report OK\n",
    "echo \"Loaded $KERNEL_NAME!\""
   ]
  },
  {
   "cell_type": "markdown",
   "metadata": {},
   "source": [
    "Results\n",
    "=======\n",
    "\n",
    "If successful, you should see something similar to the following:\n",
    "\n",
    "```\n",
    "Loaded machine-learning-hats-2020!\n",
    "```\n",
    "\n",
    "The new kernel you just made will then show up in the various Jupyter after logging out and back in (restarting your server)."
   ]
  },
  {
   "cell_type": "code",
   "execution_count": null,
   "metadata": {},
   "outputs": [],
   "source": []
  }
 ],
 "metadata": {
  "kernelspec": {
   "display_name": "Python 2",
   "language": "python",
   "name": "python2"
  },
  "language_info": {
   "codemirror_mode": {
    "name": "ipython",
    "version": 2
   },
   "file_extension": ".py",
   "mimetype": "text/x-python",
   "name": "python",
   "nbconvert_exporter": "python",
   "pygments_lexer": "ipython2",
   "version": "2.7.5"
  }
 },
 "nbformat": 4,
 "nbformat_minor": 2
}

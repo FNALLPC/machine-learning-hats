{
 "cells": [
  {
   "cell_type": "markdown",
   "metadata": {},
   "source": [
    "Setup Instructions\n",
    "==========\n",
    "\n",
    "These instructions need to be run once to load the requisite libraries for the tutorial.\n",
    "\n",
    "Jupyter has the concept of _kernels_, which are independent execution environments. They don't\n",
    "even have to be Python, kernels for other languages exist as well.\n",
    "\n",
    "By loading a separate kernel for each project, we avoid the complication of different\n",
    "components/projects having weird interactions, ultimately helping reproducibility.\n",
    "\n",
    "We first produce a new virtualenv with the libraries we require, then we teach Jupyter\n",
    "about this new environment with the ipython executable"
   ]
  },
  {
   "cell_type": "code",
   "execution_count": 1,
   "metadata": {
    "scrolled": true
   },
   "outputs": [
    {
     "name": "stdout",
     "output_type": "stream",
     "text": [
      "Loaded CMSSW_10_6_13 into machine-learning-hats!\n"
     ]
    },
    {
     "name": "stderr",
     "output_type": "stream",
     "text": [
      "WARNING: In non-interactive mode release checks e.g. deprecated releases, production architectures are disabled.\n"
     ]
    }
   ],
   "source": [
    "%%bash\n",
    "#!/bin/bash\n",
    "\n",
    "CMSSW_VER=\"CMSSW_10_6_13\"\n",
    "KERNEL_NAME=\"machine-learning-hats\"\n",
    "\n",
    "set -e\n",
    "# Get the CMSSW libraries (specifically ROOT)\n",
    "SCRAM_ARCH=$(ls -d /cvmfs/cms.cern.ch/$(/cvmfs/cms.cern.ch/common/cmsos)*/cms/cmssw/${CMSSW_VER} | tail -n 1 | awk -F / '{ print $4 }')\n",
    "export SCRAM_ARCH\n",
    "source /cvmfs/cms.cern.ch/cmsset_default.sh\n",
    "if [ ! -d cmssw-env ]; then\n",
    "    scramv1 project --name cmssw-env CMSSW $CMSSW_VER \n",
    "fi\n",
    "cd cmssw-env\n",
    "eval `scramv1 runtime -sh`\n",
    "\n",
    "# Make a wrapper script to load CMSSW python\n",
    "cat << 'EOF' > bin/python_wrapper.sh\n",
    "#!/bin/bash\n",
    "DIR=\"$( cd \"$( dirname \"${BASH_SOURCE[0]}\" )\" && pwd )\"\n",
    "source /cvmfs/cms.cern.ch/cmsset_default.sh\n",
    "cd $DIR\n",
    "eval `scramv1 runtime -sh`\n",
    "cd -\n",
    "exec python \"$@\"\n",
    "EOF\n",
    "chmod +x bin/python_wrapper.sh\n",
    "\n",
    "# Create the kernel\n",
    "mkdir -p \"$HOME/.local/share/jupyter/kernels/$KERNEL_NAME\"\n",
    "cat << EOF > \"$HOME/.local/share/jupyter/kernels/$KERNEL_NAME/kernel.json\"\n",
    "{\n",
    " \"display_name\": \"$KERNEL_NAME\", \n",
    " \"language\": \"python\", \n",
    " \"argv\": [\n",
    "  \"$PWD/bin/python_wrapper.sh\", \n",
    "  \"-m\", \n",
    "  \"ipykernel_launcher\", \n",
    "  \"-f\", \n",
    "  \"{connection_file}\"\n",
    " ]\n",
    "}\n",
    "EOF\n",
    "\n",
    "# Report OK\n",
    "echo \"Loaded $CMSSW_VERSION into $KERNEL_NAME!\""
   ]
  },
  {
   "cell_type": "markdown",
   "metadata": {},
   "source": [
    "Results\n",
    "=======\n",
    "\n",
    "If successful, you should see something similar to the following:\n",
    "\n",
    "```\n",
    "Loaded CMSSW_10_6_13 into machine-learning-hats!\n",
    "```\n",
    "\n",
    "The new kernel you just made will then show up in the various Jupyter dropdowns, allowing you to use it for different notebooks"
   ]
  },
  {
   "cell_type": "code",
   "execution_count": 6,
   "metadata": {},
   "outputs": [
    {
     "name": "stdout",
     "output_type": "stream",
     "text": [
      "\u001b[33mDEPRECATION: Python 2.7 will reach the end of its life on January 1st, 2020. Please upgrade your Python as Python 2.7 won't be maintained after that date. A future version of pip will drop support for Python 2.7.\u001b[0m\n",
      "Requirement already satisfied: torch in /home/cms.woodson/.local/lib/python2.7/site-packages (1.1.0)\n",
      "Requirement already satisfied: torchvision in /home/cms.woodson/.local/lib/python2.7/site-packages (0.3.0)\n",
      "Requirement already satisfied: scikit-optimize in /home/cms.woodson/.local/lib/python2.7/site-packages (0.5.2)\n",
      "Requirement already satisfied: torch_geometric in /home/cms.woodson/.local/lib/python2.7/site-packages (1.2.1)\n",
      "Requirement already satisfied: torch_scatter in /home/cms.woodson/.local/lib/python2.7/site-packages (1.2.0)\n",
      "Requirement already satisfied: torch_sparse in /home/cms.woodson/.local/lib/python2.7/site-packages (0.4.0)\n",
      "Requirement already satisfied: torch_cluster in /home/cms.woodson/.local/lib/python2.7/site-packages (1.3.0)\n",
      "Requirement already satisfied: pandas==0.24.0 in /usr/lib64/python2.7/site-packages (0.24.0)\n",
      "Requirement already satisfied: future in /home/cms.woodson/.local/lib/python2.7/site-packages (from torch) (0.17.1)\n",
      "Requirement already satisfied: numpy in /home/cms.woodson/.local/lib/python2.7/site-packages (from torch) (1.16.4)\n",
      "Requirement already satisfied: six in /home/cms.woodson/.local/lib/python2.7/site-packages (from torchvision) (1.12.0)\n",
      "Requirement already satisfied: pillow>=4.1.1 in /home/cms.woodson/.local/lib/python2.7/site-packages (from torchvision) (6.0.0)\n",
      "Requirement already satisfied: scikit-learn>=0.19.1 in /home/cms.woodson/.local/lib/python2.7/site-packages (from scikit-optimize) (0.20.3)\n",
      "Requirement already satisfied: scipy>=0.14.0 in /usr/lib64/python2.7/site-packages (from scikit-optimize) (1.2.0)\n",
      "Requirement already satisfied: networkx in /home/cms.woodson/.local/lib/python2.7/site-packages (from torch_geometric) (2.2)\n",
      "Requirement already satisfied: plyfile in /home/cms.woodson/.local/lib/python2.7/site-packages (from torch_geometric) (0.7)\n",
      "Requirement already satisfied: rdflib in /home/cms.woodson/.local/lib/python2.7/site-packages (from torch_geometric) (4.2.2)\n",
      "Requirement already satisfied: h5py in /home/cms.woodson/.local/lib/python2.7/site-packages (from torch_geometric) (2.9.0)\n",
      "Requirement already satisfied: pytz>=2011k in /usr/lib/python2.7/site-packages (from pandas==0.24.0) (2018.9)\n",
      "Requirement already satisfied: python-dateutil>=2.5.0 in /usr/lib/python2.7/site-packages (from pandas==0.24.0) (2.7.5)\n",
      "Requirement already satisfied: decorator>=4.3.0 in /home/cms.woodson/.local/lib/python2.7/site-packages (from networkx->torch_geometric) (4.4.0)\n",
      "Requirement already satisfied: isodate in /home/cms.woodson/.local/lib/python2.7/site-packages (from rdflib->torch_geometric) (0.6.0)\n",
      "Requirement already satisfied: pyparsing in /usr/lib/python2.7/site-packages (from rdflib->torch_geometric) (2.3.1)\n",
      "\u001b[33mYou are using pip version 19.0.1, however version 19.1.1 is available.\n",
      "You should consider upgrading via the 'pip install --upgrade pip' command.\u001b[0m\n"
     ]
    }
   ],
   "source": [
    "import sys\n",
    "!{sys.executable} -m pip install torch torchvision scikit-optimize --user"
   ]
  },
  {
   "cell_type": "code",
   "execution_count": null,
   "metadata": {},
   "outputs": [],
   "source": []
  }
 ],
 "metadata": {
  "kernelspec": {
   "display_name": "Python 2",
   "language": "python",
   "name": "python2"
  },
  "language_info": {
   "codemirror_mode": {
    "name": "ipython",
    "version": 2
   },
   "file_extension": ".py",
   "mimetype": "text/x-python",
   "name": "python",
   "nbconvert_exporter": "python",
   "pygments_lexer": "ipython2",
   "version": "2.7.14+"
  }
 },
 "nbformat": 4,
 "nbformat_minor": 2
}

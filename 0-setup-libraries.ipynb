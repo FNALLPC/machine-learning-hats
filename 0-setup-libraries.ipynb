{
 "cells": [
  {
   "cell_type": "markdown",
   "metadata": {},
   "source": [
    "Setup Instructions\n",
    "==========\n",
    "\n",
    "These instructions install `miniconda` and the requisite libraries for the tutorial in a `conda` environment, which is an indepenent python installation.\n",
    "\n",
    "Jupyter has the similar concept of _kernels_, which are independent execution environments. They don't even have to be Python, kernels for other languages exist as well.\n",
    "\n",
    "By loading a separate kernel for each project, we avoid the complication of different components/projects having weird interactions, ultimately helping reproducibility.\n",
    "\n",
    "We first produce a new conda environment with the libraries we require, then we tell Jupyter about this new environment with the ipython executable\n",
    "\n",
    "NOTE: This step may take a little while"
   ]
  },
  {
   "cell_type": "code",
   "execution_count": null,
   "metadata": {
    "scrolled": true
   },
   "outputs": [],
   "source": [
    "%%bash\n",
    "#!/bin/bash\n",
    "\n",
    "KERNEL_NAME=\"machine-learning-hats-2021\"\n",
    "\n",
    "# Download miniconda3 install script\n",
    "if [[ ! -f $HOME/miniconda3.sh ]]; then\n",
    "    wget --progress=dot:giga https://repo.anaconda.com/miniconda/Miniconda3-latest-Linux-x86_64.sh -O $HOME/miniconda3.sh 2>&1 || { echo \"Failed to download the miniconda3 installation script.\"; exit $?; }\n",
    "fi\n",
    "\n",
    "# Install miniconda3\n",
    "if [[ ! -d $HOME/miniconda3 ]]; then\n",
    "    echo \"Installing miniconda3...\"\n",
    "    bash $HOME/miniconda3.sh -b -f -u -p $HOME/miniconda3 2>&1 || { echo \"Failed to install miniconda3.\"; exit $?; }\n",
    "fi\n",
    "echo \"Sourcing the miniconda3 setup script...\"\n",
    "source $HOME/miniconda3/etc/profile.d/conda.sh\n",
    "\n",
    "# Update miniconda3 to the latest version\n",
    "echo \"Updating the miniconda3 release...\"\n",
    "conda update -y -n base -c defaults conda 2>&1 || { echo \"Failed to properly update miniconda3.\"; exit $?; }\n",
    "\n",
    "# Create conda environment\n",
    "if [[ ! -d $HOME/miniconda3/envs/machine-learning-hats-2021 ]]; then\n",
    "    echo \"Installing mamba...\"\n",
    "    conda install -y mamba -n base -c conda-forge\n",
    "    echo \"Creating the miniconda3 environment \\\"$KERNEL_NAME\\\"...\"\n",
    "    mamba env create -f environment.yml --name $KERNEL_NAME || { echo \"Failed to properly setup the environment \\\"$KERNEL_NAME\\\" using mamba.\"; exit $?; }\n",
    "fi\n",
    "echo \"Activating the kernel \\\"$KERNEL_NAME\\\"...\"\n",
    "conda activate $KERNEL_NAME || { echo \"Failed to activate the kernel \\\"$KERNEL_NAME\\\".\"; exit $?; }\n",
    "\n",
    "set -e\n",
    "\n",
    "# Make a wrapper script to load miniconda python\n",
    "if [[ ! -f python_wrapper.sh ]]; then\n",
    "    echo \"Creating the python_wrapper.sh script...\"\n",
    "    cat << 'EOF' > python_wrapper.sh\n",
    "#!/bin/bash\n",
    "source $HOME/miniconda3/etc/profile.d/conda.sh\n",
    "conda activate machine-learning-hats-2021\n",
    "exec python \"$@\"\n",
    "EOF\n",
    "    chmod +x python_wrapper.sh\n",
    "fi\n",
    "\n",
    "# Create the kernel\n",
    "if [[ ! -d $HOME/.local/share/jupyter/kernels/$KERNEL_NAME ]]; then\n",
    "    echo \"Creating the kernel $KERNEL_NAME...\"\n",
    "    mkdir -p \"$HOME/.local/share/jupyter/kernels/$KERNEL_NAME\"\n",
    "    cat << EOF > \"$HOME/.local/share/jupyter/kernels/$KERNEL_NAME/kernel.json\"\n",
    "{\n",
    " \"display_name\": \"$KERNEL_NAME\", \n",
    " \"language\": \"python\", \n",
    " \"argv\": [\n",
    "  \"$PWD/python_wrapper.sh\", \n",
    "  \"-m\", \n",
    "  \"ipykernel_launcher\", \n",
    "  \"-f\", \n",
    "  \"{connection_file}\"\n",
    " ]\n",
    "}\n",
    "EOF\n",
    "fi\n",
    "\n",
    "# Report OK\n",
    "echo \"Loaded $KERNEL_NAME!\""
   ]
  },
  {
   "cell_type": "markdown",
   "metadata": {},
   "source": [
    "Results\n",
    "=======\n",
    "\n",
    "If successful, you should see something similar to the following:\n",
    "\n",
    "```\n",
    "Loaded machine-learning-hats-2021!\n",
    "```\n",
    "\n",
    "The new kernel you just made will then show up in the various Jupyter after refreshing the page."
   ]
  },
  {
   "cell_type": "code",
   "execution_count": null,
   "metadata": {},
   "outputs": [],
   "source": []
  }
 ],
 "metadata": {
  "kernelspec": {
   "display_name": "Python 3",
   "language": "python",
   "name": "python3"
  },
  "language_info": {
   "codemirror_mode": {
    "name": "ipython",
    "version": 3
   },
   "file_extension": ".py",
   "mimetype": "text/x-python",
   "name": "python",
   "nbconvert_exporter": "python",
   "pygments_lexer": "ipython3",
   "version": "3.4.9"
  }
 },
 "nbformat": 4,
 "nbformat_minor": 2
}

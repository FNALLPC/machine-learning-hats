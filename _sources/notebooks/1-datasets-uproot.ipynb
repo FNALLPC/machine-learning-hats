{
 "cells": [
  {
   "cell_type": "markdown",
   "metadata": {
    "slideshow": {
     "slide_type": ""
    },
    "tags": []
   },
   "source": [
    "# Loading Datasets\n",
    "Authors: Javier Duarte, Raghav Kansal\n"
   ]
  },
  {
   "cell_type": "markdown",
   "metadata": {},
   "source": [
    "## Load datasets from `ROOT` files using `uproot`\n",
    "Here we load the `ROOT` datasets in python using `uproot` (see: https://github.com/scikit-hep/uproot). For more information about how to use uproot, see the [`Uproot and Awkward Array for columnar analysis HATS@LPC 2023`](https://indico.cern.ch/event/1297663/) tutorial."
   ]
  },
  {
   "cell_type": "code",
   "execution_count": 1,
   "metadata": {
    "slideshow": {
     "slide_type": ""
    },
    "tags": []
   },
   "outputs": [],
   "source": [
    "import uproot"
   ]
  },
  {
   "cell_type": "markdown",
   "metadata": {
    "slideshow": {
     "slide_type": ""
    },
    "tags": []
   },
   "source": [
    "Download datasets from Zenodo:"
   ]
  },
  {
   "cell_type": "code",
   "execution_count": 2,
   "metadata": {
    "scrolled": true,
    "slideshow": {
     "slide_type": ""
    },
    "tags": [
     "hide-output"
    ]
   },
   "outputs": [
    {
     "name": "stderr",
     "output_type": "stream",
     "text": [
      "--2023-08-12 00:12:36--  https://zenodo.org/record/3901869/files/ntuple_4mu_bkg.root?download=1\n",
      "Resolving zenodo.org (zenodo.org)... 188.185.124.72\n",
      "Connecting to zenodo.org (zenodo.org)|188.185.124.72|:443... connected.\n",
      "HTTP request sent, awaiting response... 200 OK\n",
      "Length: 8867265 (8.5M) [application/octet-stream]\n",
      "Saving to: ‘data/ntuple_4mu_bkg.root’\n",
      "\n",
      "     0K .......... .......... .......... .......... ..........  0%  467K 18s\n",
      "    50K .......... .......... .......... .......... ..........  1%  471K 18s\n",
      "   100K .......... .......... .......... .......... ..........  1%  105M 12s\n",
      "   150K .......... .......... .......... .......... ..........  2%  469K 14s\n",
      "   200K .......... .......... .......... .......... ..........  2% 80.3M 11s\n",
      "   250K .......... .......... .......... .......... ..........  3%  163M 9s\n",
      "   300K .......... .......... .......... .......... ..........  4%  139M 8s\n",
      "   350K .......... .......... .......... .......... ..........  4%  132M 7s\n",
      "   400K .......... .......... .......... .......... ..........  5%  473K 8s\n",
      "   450K .......... .......... .......... .......... ..........  5%  108M 7s\n",
      "   500K .......... .......... .......... .......... ..........  6%  168M 6s\n",
      "   550K .......... .......... .......... .......... ..........  6%  138M 6s\n",
      "   600K .......... .......... .......... .......... ..........  7%  155M 5s\n",
      "   650K .......... .......... .......... .......... ..........  8%  479K 6s\n",
      "   700K .......... .......... .......... .......... ..........  8% 45.9M 6s\n",
      "   750K .......... .......... .......... .......... ..........  9%  101M 5s\n",
      "   800K .......... .......... .......... .......... ..........  9%  146M 5s\n",
      "   850K .......... .......... .......... .......... .......... 10%  154M 5s\n",
      "   900K .......... .......... .......... .......... .......... 10%  144M 4s\n",
      "   950K .......... .......... .......... .......... .......... 11%  479K 5s\n",
      "  1000K .......... .......... .......... .......... .......... 12%  109M 5s\n",
      "  1050K .......... .......... .......... .......... .......... 12% 68.5M 4s\n",
      "  1100K .......... .......... .......... .......... .......... 13% 61.4M 4s\n",
      "  1150K .......... .......... .......... .......... .......... 13%  117M 4s\n",
      "  1200K .......... .......... .......... .......... .......... 14%  153M 4s\n",
      "  1250K .......... .......... .......... .......... .......... 15%  479K 4s\n",
      "  1300K .......... .......... .......... .......... .......... 15%  161M 4s\n",
      "  1350K .......... .......... .......... .......... .......... 16% 58.7M 4s\n",
      "  1400K .......... .......... .......... .......... .......... 16%  149M 4s\n",
      "  1450K .......... .......... .......... .......... .......... 17%  475K 4s\n",
      "  1500K .......... .......... .......... .......... .......... 17%  138M 4s\n",
      "  1550K .......... .......... .......... .......... .......... 18%  113M 4s\n",
      "  1600K .......... .......... .......... .......... .......... 19%  117M 4s\n",
      "  1650K .......... .......... .......... .......... .......... 19%  150M 4s\n",
      "  1700K .......... .......... .......... .......... .......... 20%  143M 3s\n",
      "  1750K .......... .......... .......... .......... .......... 20%  474K 4s\n",
      "  1800K .......... .......... .......... .......... .......... 21%  132M 4s\n",
      "  1850K .......... .......... .......... .......... .......... 21%  122M 3s\n",
      "  1900K .......... .......... .......... .......... .......... 22%  156M 3s\n",
      "  1950K .......... .......... .......... .......... .......... 23%  132M 3s\n",
      "  2000K .......... .......... .......... .......... .......... 23%  149M 3s\n",
      "  2050K .......... .......... .......... .......... .......... 24%  475K 3s\n",
      "  2100K .......... .......... .......... .......... .......... 24%  151M 3s\n",
      "  2150K .......... .......... .......... .......... .......... 25%  131M 3s\n",
      "  2200K .......... .......... .......... .......... .......... 25%  162M 3s\n",
      "  2250K .......... .......... .......... .......... .......... 26%  472K 3s\n",
      "  2300K .......... .......... .......... .......... .......... 27%  156M 3s\n",
      "  2350K .......... .......... .......... .......... .......... 27%  127M 3s\n",
      "  2400K .......... .......... .......... .......... .......... 28%  175M 3s\n",
      "  2450K .......... .......... .......... .......... .......... 28%  167M 3s\n",
      "  2500K .......... .......... .......... .......... .......... 29%  478K 3s\n",
      "  2550K .......... .......... .......... .......... .......... 30% 49.4M 3s\n",
      "  2600K .......... .......... .......... .......... .......... 30%  176M 3s\n",
      "  2650K .......... .......... .......... .......... .......... 31%  169M 3s\n",
      "  2700K .......... .......... .......... .......... .......... 31%  171M 3s\n",
      "  2750K .......... .......... .......... .......... .......... 32%  141M 3s\n",
      "  2800K .......... .......... .......... .......... .......... 32%  477K 3s\n",
      "  2850K .......... .......... .......... .......... .......... 33% 54.7M 3s\n",
      "  2900K .......... .......... .......... .......... .......... 34%  155M 3s\n",
      "  2950K .......... .......... .......... .......... .......... 34%  149M 3s\n",
      "  3000K .......... .......... .......... .......... .......... 35%  157M 3s\n",
      "  3050K .......... .......... .......... .......... .......... 35%  139M 2s\n",
      "  3100K .......... .......... .......... .......... .......... 36%  479K 3s\n",
      "  3150K .......... .......... .......... .......... .......... 36% 48.0M 3s\n",
      "  3200K .......... .......... .......... .......... .......... 37%  138M 2s\n",
      "  3250K .......... .......... .......... .......... .......... 38%  159M 2s\n",
      "  3300K .......... .......... .......... .......... .......... 38%  155M 2s\n",
      "  3350K .......... .......... .......... .......... .......... 39%  129M 2s\n",
      "  3400K .......... .......... .......... .......... .......... 39%  479K 2s\n",
      "  3450K .......... .......... .......... .......... .......... 40%  110M 2s\n",
      "  3500K .......... .......... .......... .......... .......... 40% 58.4M 2s\n",
      "  3550K .......... .......... .......... .......... .......... 41%  129M 2s\n",
      "  3600K .......... .......... .......... .......... .......... 42%  152M 2s\n",
      "  3650K .......... .......... .......... .......... .......... 42%  478K 2s\n",
      "  3700K .......... .......... .......... .......... .......... 43%  117M 2s\n",
      "  3750K .......... .......... .......... .......... .......... 43% 65.4M 2s\n",
      "  3800K .......... .......... .......... .......... .......... 44% 74.7M 2s\n",
      "  3850K .......... .......... .......... .......... .......... 45%  153M 2s\n",
      "  3900K .......... .......... .......... .......... .......... 45%  160M 2s\n",
      "  3950K .......... .......... .......... .......... .......... 46%  478K 2s\n",
      "  4000K .......... .......... .......... .......... .......... 46%  151M 2s\n",
      "  4050K .......... .......... .......... .......... .......... 47% 54.3M 2s\n",
      "  4100K .......... .......... .......... .......... .......... 47%  144M 2s\n",
      "  4150K .......... .......... .......... .......... .......... 48%  137M 2s\n",
      "  4200K .......... .......... .......... .......... .......... 49%  160M 2s\n",
      "  4250K .......... .......... .......... .......... .......... 49%  478K 2s\n",
      "  4300K .......... .......... .......... .......... .......... 50%  150M 2s\n",
      "  4350K .......... .......... .......... .......... .......... 50% 26.8M 2s\n",
      "  4400K .......... .......... .......... .......... .......... 51%  128M 2s\n",
      "  4450K .......... .......... .......... .......... .......... 51%  150M 2s\n",
      "  4500K .......... .......... .......... .......... .......... 52%  157M 2s\n",
      "  4550K .......... .......... .......... .......... .......... 53%  482K 2s\n",
      "  4600K .......... .......... .......... .......... .......... 53%  156M 2s\n",
      "  4650K .......... .......... .......... .......... .......... 54% 25.1M 2s\n",
      "  4700K .......... .......... .......... .......... .......... 54%  168M 2s\n",
      "  4750K .......... .......... .......... .......... .......... 55%  137M 2s\n",
      "  4800K .......... .......... .......... .......... .......... 56%  483K 2s\n",
      "  4850K .......... .......... .......... .......... .......... 56% 62.5M 2s\n",
      "  4900K .......... .......... .......... .......... .......... 57%  166M 2s\n",
      "  4950K .......... .......... .......... .......... .......... 57% 26.1M 2s\n",
      "  5000K .......... .......... .......... .......... .......... 58%  182M 2s\n",
      "  5050K .......... .......... .......... .......... .......... 58%  202M 1s\n",
      "  5100K .......... .......... .......... .......... .......... 59%  481K 2s\n",
      "  5150K .......... .......... .......... .......... .......... 60%  102M 1s\n"
     ]
    },
    {
     "name": "stderr",
     "output_type": "stream",
     "text": [
      "  5200K .......... .......... .......... .......... .......... 60%  160M 1s\n",
      "  5250K .......... .......... .......... .......... .......... 61% 28.6M 1s\n",
      "  5300K .......... .......... .......... .......... .......... 61%  158M 1s\n",
      "  5350K .......... .......... .......... .......... .......... 62%  146M 1s\n",
      "  5400K .......... .......... .......... .......... .......... 62%  481K 1s\n",
      "  5450K .......... .......... .......... .......... .......... 63%  157M 1s\n",
      "  5500K .......... .......... .......... .......... .......... 64%  171M 1s\n",
      "  5550K .......... .......... .......... .......... .......... 64% 27.9M 1s\n",
      "  5600K .......... .......... .......... .......... .......... 65%  179M 1s\n",
      "  5650K .......... .......... .......... .......... .......... 65%  182M 1s\n",
      "  5700K .......... .......... .......... .......... .......... 66%  481K 1s\n",
      "  5750K .......... .......... .......... .......... .......... 66%  135M 1s\n",
      "  5800K .......... .......... .......... .......... .......... 67% 36.6M 1s\n",
      "  5850K .......... .......... .......... .......... .......... 68% 68.9M 1s\n",
      "  5900K .......... .......... .......... .......... .......... 68%  170M 1s\n",
      "  5950K .......... .......... .......... .......... .......... 69%  480K 1s\n",
      "  6000K .......... .......... .......... .......... .......... 69%  140M 1s\n",
      "  6050K .......... .......... .......... .......... .......... 70%  157M 1s\n",
      "  6100K .......... .......... .......... .......... .......... 71% 27.4M 1s\n",
      "  6150K .......... .......... .......... .......... .......... 71%  148M 1s\n",
      "  6200K .......... .......... .......... .......... .......... 72%  176M 1s\n",
      "  6250K .......... .......... .......... .......... .......... 72%  482K 1s\n",
      "  6300K .......... .......... .......... .......... .......... 73%  149M 1s\n",
      "  6350K .......... .......... .......... .......... .......... 73%  124M 1s\n",
      "  6400K .......... .......... .......... .......... .......... 74% 25.9M 1s\n",
      "  6450K .......... .......... .......... .......... .......... 75%  158M 1s\n",
      "  6500K .......... .......... .......... .......... .......... 75%  161M 1s\n",
      "  6550K .......... .......... .......... .......... .......... 76%  482K 1s\n",
      "  6600K .......... .......... .......... .......... .......... 76%  154M 1s\n",
      "  6650K .......... .......... .......... .......... .......... 77%  148M 1s\n",
      "  6700K .......... .......... .......... .......... .......... 77% 24.5M 1s\n",
      "  6750K .......... .......... .......... .......... .......... 78%  129M 1s\n",
      "  6800K .......... .......... .......... .......... .......... 79%  160M 1s\n",
      "  6850K .......... .......... .......... .......... .......... 79%  483K 1s\n",
      "  6900K .......... .......... .......... .......... .......... 80%  145M 1s\n",
      "  6950K .......... .......... .......... .......... .......... 80% 27.1M 1s\n",
      "  7000K .......... .......... .......... .......... .......... 81%  120M 1s\n",
      "  7050K .......... .......... .......... .......... .......... 81%  140M 1s\n",
      "  7100K .......... .......... .......... .......... .......... 82%  149M 1s\n",
      "  7150K .......... .......... .......... .......... .......... 83%  481K 1s\n",
      "  7200K .......... .......... .......... .......... .......... 83%  150M 1s\n",
      "  7250K .......... .......... .......... .......... .......... 84% 28.7M 1s\n",
      "  7300K .......... .......... .......... .......... .......... 84% 63.0M 1s\n",
      "  7350K .......... .......... .......... .......... .......... 85%  133M 1s\n",
      "  7400K .......... .......... .......... .......... .......... 86%  482K 1s\n",
      "  7450K .......... .......... .......... .......... .......... 86%  142M 0s\n",
      "  7500K .......... .......... .......... .......... .......... 87%  142M 0s\n",
      "  7550K .......... .......... .......... .......... .......... 87% 26.5M 0s\n",
      "  7600K .......... .......... .......... .......... .......... 88%  135M 0s\n",
      "  7650K .......... .......... .......... .......... .......... 88%  480K 0s\n",
      "  7700K .......... .......... .......... .......... .......... 89%  149M 0s\n",
      "  7750K .......... .......... .......... .......... .......... 90%  133M 0s\n",
      "  7800K .......... .......... .......... .......... .......... 90%  156M 0s\n",
      "  7850K .......... .......... .......... .......... .......... 91% 46.9M 0s\n",
      "  7900K .......... .......... .......... .......... .......... 91%  159M 0s\n",
      "  7950K .......... .......... .......... .......... .......... 92%  479K 0s\n",
      "  8000K .......... .......... .......... .......... .......... 92%  149M 0s\n",
      "  8050K .......... .......... .......... .......... .......... 93%  159M 0s\n",
      "  8100K .......... .......... .......... .......... .......... 94% 30.4M 0s\n",
      "  8150K .......... .......... .......... .......... .......... 94%  139M 0s\n",
      "  8200K .......... .......... .......... .......... .......... 95%  146M 0s\n",
      "  8250K .......... .......... .......... .......... .......... 95%  478K 0s\n",
      "  8300K .......... .......... .......... .......... .......... 96%  161M 0s\n",
      "  8350K .......... .......... .......... .......... .......... 97% 55.7M 0s\n",
      "  8400K .......... .......... .......... .......... .......... 97%  153M 0s\n",
      "  8450K .......... .......... .......... .......... .......... 98%  170M 0s\n",
      "  8500K .......... .......... .......... .......... .......... 98%  477K 0s\n",
      "  8550K .......... .......... .......... .......... .......... 99%  124M 0s\n",
      "  8600K .......... .......... .......... .......... .......... 99%  172M 0s\n",
      "  8650K .........                                             100%  173M=3.5s\n",
      "\n",
      "2023-08-12 00:12:41 (2.40 MB/s) - ‘data/ntuple_4mu_bkg.root’ saved [8867265/8867265]\n",
      "\n",
      "--2023-08-12 00:12:41--  https://zenodo.org/record/3901869/files/ntuple_4mu_VV.root?download=1\n",
      "Resolving zenodo.org (zenodo.org)... 188.185.124.72\n",
      "Connecting to zenodo.org (zenodo.org)|188.185.124.72|:443... connected.\n",
      "HTTP request sent, awaiting response... 200 OK\n",
      "Length: 4505518 (4.3M) [application/octet-stream]\n",
      "Saving to: ‘data/ntuple_4mu_VV.root’\n",
      "\n",
      "     0K .......... .......... .......... .......... ..........  1%  448K 10s\n",
      "    50K .......... .......... .......... .......... ..........  2%  452K 10s\n",
      "   100K .......... .......... .......... .......... ..........  3%  138M 6s\n",
      "   150K .......... .......... .......... .......... ..........  4%  454K 7s\n",
      "   200K .......... .......... .......... .......... ..........  5% 47.3M 6s\n",
      "   250K .......... .......... .......... .......... ..........  6%  152M 5s\n",
      "   300K .......... .......... .......... .......... ..........  7%  156M 4s\n",
      "   350K .......... .......... .......... .......... ..........  9%  125M 3s\n",
      "   400K .......... .......... .......... .......... .......... 10%  460K 4s\n",
      "   450K .......... .......... .......... .......... .......... 11% 42.9M 3s\n",
      "   500K .......... .......... .......... .......... .......... 12%  141M 3s\n",
      "   550K .......... .......... .......... .......... .......... 13%  143M 3s\n",
      "   600K .......... .......... .......... .......... .......... 14%  157M 3s\n",
      "   650K .......... .......... .......... .......... .......... 15%  455K 3s\n",
      "   700K .......... .......... .......... .......... .......... 17%  139M 3s\n",
      "   750K .......... .......... .......... .......... .......... 18%  137M 3s\n",
      "   800K .......... .......... .......... .......... .......... 19%  171M 2s\n",
      "   850K .......... .......... .......... .......... .......... 20%  150M 2s\n",
      "   900K .......... .......... .......... .......... .......... 21%  163M 2s\n",
      "   950K .......... .......... .......... .......... .......... 22%  454K 2s\n",
      "  1000K .......... .......... .......... .......... .......... 23%  141M 2s\n",
      "  1050K .......... .......... .......... .......... .......... 25%  130M 2s\n",
      "  1100K .......... .......... .......... .......... .......... 26%  148M 2s\n",
      "  1150K .......... .......... .......... .......... .......... 27%  128M 2s\n",
      "  1200K .......... .......... .......... .......... .......... 28%  148M 2s\n",
      "  1250K .......... .......... .......... .......... .......... 29%  455K 2s\n",
      "  1300K .......... .......... .......... .......... .......... 30%  146M 2s\n",
      "  1350K .......... .......... .......... .......... .......... 31%  142M 2s\n",
      "  1400K .......... .......... .......... .......... .......... 32%  154M 2s\n",
      "  1450K .......... .......... .......... .......... .......... 34%  165M 2s\n",
      "  1500K .......... .......... .......... .......... .......... 35%  144M 1s\n",
      "  1550K .......... .......... .......... .......... .......... 36%  457K 2s\n"
     ]
    },
    {
     "name": "stderr",
     "output_type": "stream",
     "text": [
      "  1600K .......... .......... .......... .......... .......... 37%  159M 1s\n",
      "  1650K .......... .......... .......... .......... .......... 38%  170M 1s\n",
      "  1700K .......... .......... .......... .......... .......... 39%  171M 1s\n",
      "  1750K .......... .......... .......... .......... .......... 40%  453K 1s\n",
      "  1800K .......... .......... .......... .......... .......... 42%  149M 1s\n",
      "  1850K .......... .......... .......... .......... .......... 43%  158M 1s\n",
      "  1900K .......... .......... .......... .......... .......... 44%  157M 1s\n",
      "  1950K .......... .......... .......... .......... .......... 45%  136M 1s\n",
      "  2000K .......... .......... .......... .......... .......... 46%  455K 1s\n",
      "  2050K .......... .......... .......... .......... .......... 47% 93.7M 1s\n",
      "  2100K .......... .......... .......... .......... .......... 48%  147M 1s\n",
      "  2150K .......... .......... .......... .......... .......... 50%  138M 1s\n",
      "  2200K .......... .......... .......... .......... .......... 51%  160M 1s\n",
      "  2250K .......... .......... .......... .......... .......... 52%  146M 1s\n",
      "  2300K .......... .......... .......... .......... .......... 53%  455K 1s\n",
      "  2350K .......... .......... .......... .......... .......... 54%  119M 1s\n",
      "  2400K .......... .......... .......... .......... .......... 55%  150M 1s\n",
      "  2450K .......... .......... .......... .......... .......... 56%  150M 1s\n",
      "  2500K .......... .......... .......... .......... .......... 57%  151M 1s\n",
      "  2550K .......... .......... .......... .......... .......... 59%  136M 1s\n",
      "  2600K .......... .......... .......... .......... .......... 60%  458K 1s\n",
      "  2650K .......... .......... .......... .......... .......... 61% 97.6M 1s\n",
      "  2700K .......... .......... .......... .......... .......... 62%  156M 1s\n",
      "  2750K .......... .......... .......... .......... .......... 63%  131M 1s\n",
      "  2800K .......... .......... .......... .......... .......... 64%  156M 1s\n",
      "  2850K .......... .......... .......... .......... .......... 65%  110M 1s\n",
      "  2900K .......... .......... .......... .......... .......... 67%  455K 1s\n",
      "  2950K .......... .......... .......... .......... .......... 68%  136M 1s\n",
      "  3000K .......... .......... .......... .......... .......... 69%  168M 1s\n",
      "  3050K .......... .......... .......... .......... .......... 70%  164M 1s\n",
      "  3100K .......... .......... .......... .......... .......... 71%  167M 1s\n",
      "  3150K .......... .......... .......... .......... .......... 72%  460K 1s\n",
      "  3200K .......... .......... .......... .......... .......... 73% 49.3M 1s\n",
      "  3250K .......... .......... .......... .......... .......... 75%  155M 1s\n",
      "  3300K .......... .......... .......... .......... .......... 76%  161M 0s\n",
      "  3350K .......... .......... .......... .......... .......... 77%  148M 0s\n",
      "  3400K .......... .......... .......... .......... .......... 78%  155M 0s\n",
      "  3450K .......... .......... .......... .......... .......... 79%  461K 0s\n",
      "  3500K .......... .......... .......... .......... .......... 80% 37.9M 0s\n",
      "  3550K .......... .......... .......... .......... .......... 81%  122M 0s\n",
      "  3600K .......... .......... .......... .......... .......... 82%  149M 0s\n",
      "  3650K .......... .......... .......... .......... .......... 84%  157M 0s\n",
      "  3700K .......... .......... .......... .......... .......... 85%  148M 0s\n",
      "  3750K .......... .......... .......... .......... .......... 86%  457K 0s\n",
      "  3800K .......... .......... .......... .......... .......... 87%  138M 0s\n",
      "  3850K .......... .......... .......... .......... .......... 88%  133M 0s\n",
      "  3900K .......... .......... .......... .......... .......... 89%  138M 0s\n",
      "  3950K .......... .......... .......... .......... .......... 90%  121M 0s\n",
      "  4000K .......... .......... .......... .......... .......... 92%  139M 0s\n",
      "  4050K .......... .......... .......... .......... .......... 93%  456K 0s\n",
      "  4100K .......... .......... .......... .......... .......... 94%  130M 0s\n",
      "  4150K .......... .......... .......... .......... .......... 95%  132M 0s\n",
      "  4200K .......... .......... .......... .......... .......... 96%  155M 0s\n",
      "  4250K .......... .......... .......... .......... .......... 97%  139M 0s\n",
      "  4300K .......... .......... .......... .......... .......... 98%  136M 0s\n",
      "  4350K .......... .......... .......... .......... ......... 100%  457K=2.0s\n",
      "\n",
      "2023-08-12 00:12:44 (2.15 MB/s) - ‘data/ntuple_4mu_VV.root’ saved [4505518/4505518]\n",
      "\n"
     ]
    }
   ],
   "source": [
    "%%bash\n",
    "mkdir -p data\n",
    "wget -O data/ntuple_4mu_bkg.root \"https://zenodo.org/record/3901869/files/ntuple_4mu_bkg.root?download=1\"\n",
    "wget -O data/ntuple_4mu_VV.root \"https://zenodo.org/record/3901869/files/ntuple_4mu_VV.root?download=1\""
   ]
  },
  {
   "cell_type": "markdown",
   "metadata": {
    "slideshow": {
     "slide_type": ""
    },
    "tags": []
   },
   "source": [
    "## Load `ROOT` files\n",
    "Here we simply open two `ROOT` files using `uproot` and display the branch content of one of the trees."
   ]
  },
  {
   "cell_type": "code",
   "execution_count": 3,
   "metadata": {
    "slideshow": {
     "slide_type": ""
    },
    "tags": []
   },
   "outputs": [
    {
     "name": "stdout",
     "output_type": "stream",
     "text": [
      "name                 | typename                 | interpretation                \n",
      "---------------------+--------------------------+-------------------------------\n",
      "f_run                | int32_t                  | AsDtype('>i4')\n",
      "f_lumi               | int32_t                  | AsDtype('>i4')\n",
      "f_event              | int32_t                  | AsDtype('>i4')\n",
      "f_weight             | float                    | AsDtype('>f4')\n",
      "f_int_weight         | float                    | AsDtype('>f4')\n",
      "f_pu_weight          | float                    | AsDtype('>f4')\n",
      "f_eff_weight         | float                    | AsDtype('>f4')\n",
      "f_lept1_pt           | float                    | AsDtype('>f4')\n",
      "f_lept1_eta          | float                    | AsDtype('>f4')\n",
      "f_lept1_phi          | float                    | AsDtype('>f4')\n",
      "f_lept1_charge       | float                    | AsDtype('>f4')\n",
      "f_lept1_pfx          | float                    | AsDtype('>f4')\n",
      "f_lept1_sip          | float                    | AsDtype('>f4')\n",
      "f_lept2_pt           | float                    | AsDtype('>f4')\n",
      "f_lept2_eta          | float                    | AsDtype('>f4')\n",
      "f_lept2_phi          | float                    | AsDtype('>f4')\n",
      "f_lept2_charge       | float                    | AsDtype('>f4')\n",
      "f_lept2_pfx          | float                    | AsDtype('>f4')\n",
      "f_lept2_sip          | float                    | AsDtype('>f4')\n",
      "f_lept3_pt           | float                    | AsDtype('>f4')\n",
      "f_lept3_eta          | float                    | AsDtype('>f4')\n",
      "f_lept3_phi          | float                    | AsDtype('>f4')\n",
      "f_lept3_charge       | float                    | AsDtype('>f4')\n",
      "f_lept3_pfx          | float                    | AsDtype('>f4')\n",
      "f_lept3_sip          | float                    | AsDtype('>f4')\n",
      "f_lept4_pt           | float                    | AsDtype('>f4')\n",
      "f_lept4_eta          | float                    | AsDtype('>f4')\n",
      "f_lept4_phi          | float                    | AsDtype('>f4')\n",
      "f_lept4_charge       | float                    | AsDtype('>f4')\n",
      "f_lept4_pfx          | float                    | AsDtype('>f4')\n",
      "f_lept4_sip          | float                    | AsDtype('>f4')\n",
      "f_iso_max            | float                    | AsDtype('>f4')\n",
      "f_sip_max            | float                    | AsDtype('>f4')\n",
      "f_Z1mass             | float                    | AsDtype('>f4')\n",
      "f_Z2mass             | float                    | AsDtype('>f4')\n",
      "f_angle_costhetastar | float                    | AsDtype('>f4')\n",
      "f_angle_costheta1    | float                    | AsDtype('>f4')\n",
      "f_angle_costheta2    | float                    | AsDtype('>f4')\n",
      "f_angle_phi          | float                    | AsDtype('>f4')\n",
      "f_angle_phistar1     | float                    | AsDtype('>f4')\n",
      "f_pt4l               | float                    | AsDtype('>f4')\n",
      "f_eta4l              | float                    | AsDtype('>f4')\n",
      "f_mass4l             | float                    | AsDtype('>f4')\n",
      "f_mass4lErr          | float                    | AsDtype('>f4')\n",
      "f_njets_pass         | float                    | AsDtype('>f4')\n",
      "f_deltajj            | float                    | AsDtype('>f4')\n",
      "f_massjj             | float                    | AsDtype('>f4')\n",
      "f_D_jet              | float                    | AsDtype('>f4')\n",
      "f_jet1_pt            | float                    | AsDtype('>f4')\n",
      "f_jet1_eta           | float                    | AsDtype('>f4')\n",
      "f_jet1_phi           | float                    | AsDtype('>f4')\n",
      "f_jet1_e             | float                    | AsDtype('>f4')\n",
      "f_jet2_pt            | float                    | AsDtype('>f4')\n",
      "f_jet2_eta           | float                    | AsDtype('>f4')\n",
      "f_jet2_phi           | float                    | AsDtype('>f4')\n",
      "f_jet2_e             | float                    | AsDtype('>f4')\n",
      "f_D_bkg_kin          | float                    | AsDtype('>f4')\n",
      "f_D_bkg              | float                    | AsDtype('>f4')\n",
      "f_D_gg               | float                    | AsDtype('>f4')\n",
      "f_D_g4               | float                    | AsDtype('>f4')\n",
      "f_Djet_VAJHU         | float                    | AsDtype('>f4')\n",
      "f_pfmet              | float                    | AsDtype('>f4')\n",
      "None\n"
     ]
    }
   ],
   "source": [
    "import numpy as np\n",
    "import h5py\n",
    "\n",
    "treename = \"HZZ4LeptonsAnalysisReduced\"\n",
    "filename = {}\n",
    "upfile = {}\n",
    "\n",
    "filename[\"bkg\"] = \"data/ntuple_4mu_bkg.root\"\n",
    "filename[\"VV\"] = \"data/ntuple_4mu_VV.root\"\n",
    "\n",
    "upfile[\"bkg\"] = uproot.open(filename[\"bkg\"])\n",
    "upfile[\"VV\"] = uproot.open(filename[\"VV\"])\n",
    "\n",
    "print(upfile[\"bkg\"][treename].show())"
   ]
  },
  {
   "cell_type": "markdown",
   "metadata": {
    "slideshow": {
     "slide_type": ""
    },
    "tags": []
   },
   "source": [
    "## Convert tree to `pandas` DataFrames\n",
    "In my opinion, `pandas` DataFrames are a more convenient/flexible data container in python: https://pandas.pydata.org/pandas-docs/stable/generated/pandas.DataFrame.html. "
   ]
  },
  {
   "cell_type": "code",
   "execution_count": 4,
   "metadata": {
    "slideshow": {
     "slide_type": ""
    },
    "tags": []
   },
   "outputs": [
    {
     "name": "stdout",
     "output_type": "stream",
     "text": [
      "    f_mass4l  f_massjj\n",
      "0  91.098129    -999.0\n",
      "(58107, 2)\n",
      "    f_mass4l  f_massjj\n",
      "0  91.098129    -999.0\n",
      "[[  91.09813  -999.      ]\n",
      " [ 201.84761  -999.      ]\n",
      " [  89.279076 -999.      ]\n",
      " ...\n",
      " [  90.129845 -999.      ]\n",
      " [ 250.97742  -999.      ]\n",
      " [ 229.47015  -999.      ]]\n",
      "(58107, 2)\n",
      "0        False\n",
      "1         True\n",
      "2        False\n",
      "3         True\n",
      "4         True\n",
      "         ...  \n",
      "58102    False\n",
      "58103     True\n",
      "58104    False\n",
      "58105     True\n",
      "58106     True\n",
      "Name: f_mass4l, Length: 58107, dtype: bool\n",
      "1        201.847610\n",
      "3        586.597412\n",
      "4        135.589798\n",
      "5        734.903442\n",
      "6        341.958466\n",
      "            ...    \n",
      "58097    225.355103\n",
      "58098    214.074249\n",
      "58103    252.845184\n",
      "58105    250.977417\n",
      "58106    229.470154\n",
      "Name: f_mass4l, Length: 42219, dtype: float32\n"
     ]
    }
   ],
   "source": [
    "import pandas as pd\n",
    "\n",
    "branches = [\"f_mass4l\", \"f_massjj\"]\n",
    "\n",
    "df = {}\n",
    "df[\"bkg\"] = upfile[\"bkg\"][treename].arrays(branches, library=\"pd\")\n",
    "df[\"VV\"] = upfile[\"VV\"][treename].arrays(branches, library=\"pd\")\n",
    "\n",
    "# print first entry\n",
    "print(df[\"bkg\"].iloc[:1])\n",
    "\n",
    "# print shape of DataFrame\n",
    "print(df[\"bkg\"].shape)\n",
    "\n",
    "# print first entry for f_mass4l and f_massjj\n",
    "print(df[\"bkg\"][branches].iloc[:1])\n",
    "\n",
    "# convert back into unstructured NumPY array\n",
    "print(df[\"bkg\"].values)\n",
    "print(df[\"bkg\"].values.shape)\n",
    "\n",
    "# get boolean mask array\n",
    "mask = df[\"bkg\"][\"f_mass4l\"] > 125\n",
    "print(mask)\n",
    "\n",
    "# cut using this boolean mask array\n",
    "print(df[\"bkg\"][\"f_mass4l\"][mask])"
   ]
  },
  {
   "cell_type": "markdown",
   "metadata": {
    "slideshow": {
     "slide_type": ""
    },
    "tags": []
   },
   "source": [
    "## Plotting in `matplotlib`\n",
    "\n",
    "Finally, it is always useful to visualize the dataset before using machine learning. Here, we plot some key features in `matplotlib` with `uproot`"
   ]
  },
  {
   "cell_type": "code",
   "execution_count": 5,
   "metadata": {
    "slideshow": {
     "slide_type": ""
    },
    "tags": []
   },
   "outputs": [
    {
     "data": {
      "image/png": "[encoded data removed]",
      "text/plain": [
       "<Figure size 500x400 with 1 Axes>"
      ]
     },
     "metadata": {},
     "output_type": "display_data"
    },
    {
     "data": {
      "image/png": "[encoded data removed]",
      "text/plain": [
       "<Figure size 500x400 with 1 Axes>"
      ]
     },
     "metadata": {},
     "output_type": "display_data"
    }
   ],
   "source": [
    "import matplotlib.pyplot as plt\n",
    "\n",
    "%matplotlib inline\n",
    "\n",
    "VARS = [\"f_mass4l\", \"f_massjj\"]\n",
    "\n",
    "plt.figure(figsize=(5, 4), dpi=100)\n",
    "plt.xlabel(VARS[0])\n",
    "bins = np.linspace(80, 140, 100)\n",
    "df[\"bkg\"][VARS[0]].plot.hist(bins=bins, alpha=1, label=\"bkg\", histtype=\"step\")\n",
    "df[\"VV\"][VARS[0]].plot.hist(bins=bins, alpha=1, label=\"VV\", histtype=\"step\")\n",
    "plt.legend(loc=\"upper right\")\n",
    "plt.xlim(80, 140)\n",
    "\n",
    "plt.figure(figsize=(5, 4), dpi=100)\n",
    "plt.xlabel(VARS[1])\n",
    "bins = np.linspace(0, 2000, 100)\n",
    "df[\"bkg\"][VARS[1]].plot.hist(bins=bins, alpha=1, label=\"bkg\", histtype=\"step\")\n",
    "df[\"VV\"][VARS[1]].plot.hist(bins=bins, alpha=1, label=\"VV\", histtype=\"step\")\n",
    "plt.legend(loc=\"upper right\")\n",
    "plt.xlim(0, 2000)\n",
    "\n",
    "plt.show()"
   ]
  },
  {
   "cell_type": "code",
   "execution_count": null,
   "metadata": {
    "slideshow": {
     "slide_type": ""
    },
    "tags": []
   },
   "outputs": [],
   "source": []
  }
 ],
 "metadata": {
  "kernelspec": {
   "display_name": "machine-learning-hats",
   "language": "python",
   "name": "machine-learning-hats"
  },
  "language_info": {
   "codemirror_mode": {
    "name": "ipython",
    "version": 3
   },
   "file_extension": ".py",
   "mimetype": "text/x-python",
   "name": "python",
   "nbconvert_exporter": "python",
   "pygments_lexer": "ipython3",
   "version": "3.10.0"
  }
 },
 "nbformat": 4,
 "nbformat_minor": 4
}

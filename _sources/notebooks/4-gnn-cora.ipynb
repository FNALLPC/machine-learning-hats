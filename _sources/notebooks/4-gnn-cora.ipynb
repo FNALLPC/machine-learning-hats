{
 "cells": [
  {
   "attachments": {},
   "cell_type": "markdown",
   "metadata": {},
   "source": [
    "The contents of this tutorial are heavily adapted from a similar one make by [Savannah Thais](https://github.com/savvy379) using tensorflow and keras.\n",
    "\n",
    "A graph $G=(N,E)$, comprising nodes $N$ and edges $E$, is a versatile mathematical structure that can represent various data such as molecules, social networks, transportation systems, etc. Nodes and edges may have associated features like geometric or non-geometric information. Graphs can be directed or undirected, and GNNs, with their ability to handle graphs of varying sizes, are well-suited for diverse applications including High Energy Physics (HEP). \n",
    "\n",
    "![](toy_graph.png)"
   ]
  },
  {
   "attachments": {},
   "cell_type": "markdown",
   "metadata": {},
   "source": [
    "GNNs, particularly Graph Convolutional Networks (GCNs), re-embed graph edges and nodes by applying convolution operations to node neighborhoods, unlike the fixed data tensors used in conventional CNNs. This process, termed as \"Message Passing,\" constructs messages by combining information from neighboring nodes, then passes them to target nodes to update features. The entire graph is thus transformed, incorporating valuable information within each node. The convolved graph is often further processed for classification or regression on individual elements or the entire graph. This structure can also be applied to update edge features.\n",
    "\n",
    "![](message_passing.png)"
   ]
  },
  {
   "cell_type": "markdown",
   "metadata": {},
   "source": [
    "![](graph_eq.png)\n",
    "\n",
    "- Initial Embedding: Each node $v$ starts with an initial embedding $h_v^0$, representing the original node features.\n",
    "- Neighbors: For each node $v$, the neighboring nodes are represented as $N(v)$.\n",
    "- Message Construction: To update the embedding of node $v$, $h_v^k$, a 'message' is constructed through the following steps:\n",
    "  1. **Calculate Average of Neighbors' Embeddings**: Take the average over the current embedding of all neighboring nodes: $\\sum_{u \\in N(v)}\\frac{h_u^{k-1}}{\\text{deg}(v)}$.\n",
    "  2. **Optional Target Node Embedding**: Optionally include the current embedding of the target node: $h_v^{k-1}$.\n",
    "  3. **Apply Function**: Use a function $f$ to combine the above information. In practice, $f$ is approximated by a matrix (convolution) $W^k$.\n",
    "  4. **Non-linear Activation**: Pass the result through a non-linear activation function to update the target node.\n",
    "- Result: The entire process transforms the graph, updating the node and possibly edge features to include additional useful information. The final embeddings can then be used for further analysis like classification or regression on the graph's elements or structure."
   ]
  },
  {
   "cell_type": "markdown",
   "metadata": {
    "id": "xG3U6QlQ9LlN"
   },
   "source": [
    "# Graph Neural Network (GNN) with PyTorch Geometric\n",
    "\n",
    "In this tutorial, we will implement a Graph Neural Network (GNN) using PyTorch Geometric. We'll use the Cora dataset, which consists of scientific publications as nodes and citation links as edges.\n",
    "\n",
    "The steps in this tutorial include:\n",
    "1. Installing PyTorch Geometric\n",
    "2. Loading the Cora dataset\n",
    "3. Defining the GNN model\n",
    "4. Training and evaluating the model\n",
    "5. Plotting the training loss and test accuracy\n",
    "\n",
    "Let's get started!\n"
   ]
  },
  {
   "cell_type": "code",
   "execution_count": 1,
   "metadata": {
    "colab": {
     "base_uri": "https://localhost:8080/"
    },
    "id": "YT9VFkkH49uK",
    "outputId": "2abce9d8-f77e-4643-e2a7-73a69c999880"
   },
   "outputs": [
    {
     "name": "stdout",
     "output_type": "stream",
     "text": [
      "Requirement already satisfied: torch_geometric in /usr/local/lib/python3.10/dist-packages (2.3.1)\n",
      "Requirement already satisfied: tqdm in /usr/local/lib/python3.10/dist-packages (from torch_geometric) (4.66.0)\n",
      "Requirement already satisfied: numpy in /usr/local/lib/python3.10/dist-packages (from torch_geometric) (1.23.5)\n",
      "Requirement already satisfied: scipy in /usr/local/lib/python3.10/dist-packages (from torch_geometric) (1.10.1)\n",
      "Requirement already satisfied: jinja2 in /usr/local/lib/python3.10/dist-packages (from torch_geometric) (3.1.2)\n",
      "Requirement already satisfied: requests in /usr/local/lib/python3.10/dist-packages (from torch_geometric) (2.31.0)\n",
      "Requirement already satisfied: pyparsing in /usr/local/lib/python3.10/dist-packages (from torch_geometric) (3.1.1)\n",
      "Requirement already satisfied: scikit-learn in /usr/local/lib/python3.10/dist-packages (from torch_geometric) (1.2.2)\n",
      "Requirement already satisfied: psutil>=5.8.0 in /usr/local/lib/python3.10/dist-packages (from torch_geometric) (5.9.5)\n",
      "Requirement already satisfied: MarkupSafe>=2.0 in /usr/local/lib/python3.10/dist-packages (from jinja2->torch_geometric) (2.1.3)\n",
      "Requirement already satisfied: charset-normalizer<4,>=2 in /usr/local/lib/python3.10/dist-packages (from requests->torch_geometric) (3.2.0)\n",
      "Requirement already satisfied: idna<4,>=2.5 in /usr/local/lib/python3.10/dist-packages (from requests->torch_geometric) (3.4)\n",
      "Requirement already satisfied: urllib3<3,>=1.21.1 in /usr/local/lib/python3.10/dist-packages (from requests->torch_geometric) (2.0.4)\n",
      "Requirement already satisfied: certifi>=2017.4.17 in /usr/local/lib/python3.10/dist-packages (from requests->torch_geometric) (2023.7.22)\n",
      "Requirement already satisfied: joblib>=1.1.1 in /usr/local/lib/python3.10/dist-packages (from scikit-learn->torch_geometric) (1.3.2)\n",
      "Requirement already satisfied: threadpoolctl>=2.0.0 in /usr/local/lib/python3.10/dist-packages (from scikit-learn->torch_geometric) (3.2.0)\n"
     ]
    }
   ],
   "source": [
    "# Step 1: Install PyTorch Geometric\n",
    "!pip install torch_geometric"
   ]
  },
  {
   "cell_type": "markdown",
   "metadata": {
    "id": "qy2sKhrR9fLG"
   },
   "source": [
    "## Step 2: Import Libraries and Load Cora Dataset\n",
    "\n",
    "We'll start by importing the necessary libraries and loading the Cora dataset."
   ]
  },
  {
   "cell_type": "code",
   "execution_count": 2,
   "metadata": {
    "id": "VwG5rh3F42p1"
   },
   "outputs": [],
   "source": [
    "import torch\n",
    "import torch.nn.functional as F\n",
    "from torch_geometric.nn import GCNConv\n",
    "from torch_geometric.data import Data\n",
    "from torch_geometric.datasets import Planetoid\n",
    "import numpy as np"
   ]
  },
  {
   "cell_type": "markdown",
   "metadata": {
    "id": "JXnYyxZp94im"
   },
   "source": [
    "[The Cora dataset](https://paperswithcode.com/dataset/cora) consists of **2708 scientific publications** classified into one of **seven classes**. The citation network consists of **5429 links**. Each publication in the dataset is described by a **0/1-valued word vector** indicating the absence/presence of the corresponding word from the dictionary. The dictionary consists of **1433 unique words**."
   ]
  },
  {
   "cell_type": "code",
   "execution_count": 3,
   "metadata": {
    "id": "LyIUbDSa45Jo"
   },
   "outputs": [],
   "source": [
    "# Load Cora dataset\n",
    "dataset = Planetoid(root='/tmp/Cora', name='Cora')\n",
    "data = dataset[0]"
   ]
  },
  {
   "cell_type": "markdown",
   "metadata": {
    "id": "qFhxnANt-UAa"
   },
   "source": [
    "PyTorch Geometric has this nifty class called `Data` which is used to standardize graph data. You can make your own, but since the sample datasets are already in this format, we won't go over how to make them here."
   ]
  },
  {
   "cell_type": "code",
   "execution_count": 4,
   "metadata": {
    "colab": {
     "base_uri": "https://localhost:8080/"
    },
    "id": "gjMfbxVF3dWu",
    "outputId": "33b399bd-38b6-4ba5-b3d6-709a2a9e81f9"
   },
   "outputs": [
    {
     "data": {
      "text/plain": [
       "Data(x=[2708, 1433], edge_index=[2, 10556], y=[2708], train_mask=[2708], val_mask=[2708], test_mask=[2708])"
      ]
     },
     "execution_count": 4,
     "metadata": {},
     "output_type": "execute_result"
    }
   ],
   "source": [
    "data"
   ]
  },
  {
   "cell_type": "code",
   "execution_count": 5,
   "metadata": {
    "colab": {
     "base_uri": "https://localhost:8080/"
    },
    "id": "hQflVLEYj5vp",
    "outputId": "95ab4826-5a43-418c-e1a1-d62a694c91e6"
   },
   "outputs": [
    {
     "name": "stdout",
     "output_type": "stream",
     "text": [
      "node vectors: \n",
      " tensor([[0., 0., 0.,  ..., 0., 0., 0.],\n",
      "        [0., 0., 0.,  ..., 0., 0., 0.],\n",
      "        [0., 0., 0.,  ..., 0., 0., 0.],\n",
      "        ...,\n",
      "        [0., 0., 0.,  ..., 0., 0., 0.],\n",
      "        [0., 0., 0.,  ..., 0., 0., 0.],\n",
      "        [0., 0., 0.,  ..., 0., 0., 0.]]) \n",
      "\n",
      "node classes:  \n",
      " tensor([3, 4, 4,  ..., 3, 3, 3]) \n",
      "\n",
      "edge indeces: \n",
      " tensor([[   0,    0,    0,  ..., 2707, 2707, 2707],\n",
      "        [ 633, 1862, 2582,  ...,  598, 1473, 2706]]) \n",
      "\n",
      "\n",
      "\n",
      "train_mask: \n",
      " tensor([ True,  True,  True,  ..., False, False, False]) \n",
      "\n",
      "val_mask: \n",
      " tensor([False, False, False,  ..., False, False, False]) \n",
      "\n",
      "test_mask: \n",
      " tensor([False, False, False,  ...,  True,  True,  True]) \n",
      "\n"
     ]
    }
   ],
   "source": [
    "print(\"node vectors: \\n\", data.x,          '\\n')\n",
    "print(\"node classes:  \\n\", data.y,          '\\n')\n",
    "print(\"edge indeces: \\n\", data.edge_index, '\\n\\n\\n')\n",
    "\n",
    "print(\"train_mask: \\n\", data.train_mask, '\\n')\n",
    "print(\"val_mask: \\n\", data.val_mask, '\\n')\n",
    "print(\"test_mask: \\n\", data.test_mask, '\\n')"
   ]
  },
  {
   "cell_type": "markdown",
   "metadata": {
    "id": "RHypPDlI_IOm"
   },
   "source": [
    "## Step 3: Define the GNN Model\n",
    "\n",
    "Next, we'll define the GNN model, consisting of two GCN convolution layers."
   ]
  },
  {
   "cell_type": "code",
   "execution_count": 6,
   "metadata": {
    "id": "REDmHTHI5HN4"
   },
   "outputs": [],
   "source": [
    "# Define GNN model\n",
    "class GNN(torch.nn.Module):\n",
    "    def __init__(self, hidden_channels):\n",
    "        super(GNN, self).__init__()\n",
    "        self.conv1 = GCNConv(dataset.num_node_features, hidden_channels)\n",
    "        self.conv2 = GCNConv(hidden_channels, dataset.num_classes)\n",
    "\n",
    "    def forward(self, x, edge_index):\n",
    "        x = self.conv1(x, edge_index)\n",
    "        x = x.relu()\n",
    "        x = F.dropout(x, p=0.1, training=self.training)\n",
    "        x = self.conv2(x, edge_index)\n",
    "        return x"
   ]
  },
  {
   "cell_type": "markdown",
   "metadata": {
    "id": "lIGJt64H_QIm"
   },
   "source": [
    "## Step 4: Training and Evaluation\n",
    "\n",
    "Now, we'll train the GNN model and evaluate its performance."
   ]
  },
  {
   "cell_type": "code",
   "execution_count": 7,
   "metadata": {
    "id": "YXXAypfk5KWw"
   },
   "outputs": [],
   "source": [
    "# Training and evaluation\n",
    "device = torch.device('cuda' if torch.cuda.is_available() else 'cpu')\n",
    "model = GNN(hidden_channels=16).to(device)\n",
    "data = data.to(device)\n",
    "optimizer = torch.optim.Adam(model.parameters(), lr=0.01, weight_decay=5e-4)"
   ]
  },
  {
   "cell_type": "code",
   "execution_count": 8,
   "metadata": {
    "colab": {
     "base_uri": "https://localhost:8080/"
    },
    "id": "UASZq37P5Miq",
    "outputId": "a9877537-2f2c-4d36-f97e-8ffeb22995fa"
   },
   "outputs": [
    {
     "name": "stdout",
     "output_type": "stream",
     "text": [
      "Epoch: 000, Loss: 1.9487, Accuracy: 0.5430\n",
      "Epoch: 010, Loss: 0.5831, Accuracy: 0.7720\n",
      "Epoch: 020, Loss: 0.1152, Accuracy: 0.7910\n",
      "Epoch: 030, Loss: 0.0307, Accuracy: 0.7810\n",
      "Epoch: 040, Loss: 0.0135, Accuracy: 0.7890\n",
      "Epoch: 050, Loss: 0.0162, Accuracy: 0.7860\n",
      "Epoch: 060, Loss: 0.0153, Accuracy: 0.7900\n",
      "Epoch: 070, Loss: 0.0202, Accuracy: 0.7940\n",
      "Epoch: 080, Loss: 0.0180, Accuracy: 0.7970\n",
      "Epoch: 090, Loss: 0.0184, Accuracy: 0.7970\n",
      "Epoch: 100, Loss: 0.0168, Accuracy: 0.7960\n",
      "Epoch: 110, Loss: 0.0176, Accuracy: 0.8010\n",
      "Epoch: 120, Loss: 0.0160, Accuracy: 0.7990\n",
      "Epoch: 130, Loss: 0.0154, Accuracy: 0.8000\n",
      "Epoch: 140, Loss: 0.0150, Accuracy: 0.8040\n",
      "Epoch: 150, Loss: 0.0125, Accuracy: 0.8050\n",
      "Epoch: 160, Loss: 0.0141, Accuracy: 0.8020\n",
      "Epoch: 170, Loss: 0.0121, Accuracy: 0.8080\n",
      "Epoch: 180, Loss: 0.0136, Accuracy: 0.7990\n",
      "Epoch: 190, Loss: 0.0132, Accuracy: 0.8070\n",
      "Epoch: 200, Loss: 0.0102, Accuracy: 0.8030\n",
      "Epoch: 210, Loss: 0.0115, Accuracy: 0.7990\n",
      "Epoch: 220, Loss: 0.0117, Accuracy: 0.8060\n",
      "Epoch: 230, Loss: 0.0118, Accuracy: 0.8010\n",
      "Epoch: 240, Loss: 0.0101, Accuracy: 0.8080\n",
      "Epoch: 250, Loss: 0.0093, Accuracy: 0.8070\n",
      "Epoch: 260, Loss: 0.0120, Accuracy: 0.8070\n",
      "Epoch: 270, Loss: 0.0093, Accuracy: 0.8080\n",
      "Epoch: 280, Loss: 0.0114, Accuracy: 0.8030\n",
      "Epoch: 290, Loss: 0.0094, Accuracy: 0.8050\n",
      "Test Accuracy: 0.806\n"
     ]
    }
   ],
   "source": [
    "import matplotlib.pyplot as plt\n",
    "\n",
    "\n",
    "# Lists to store loss and accuracy over time\n",
    "train_loss_history = []\n",
    "test_accuracy_history = []\n",
    "\n",
    "def train():\n",
    "    model.train()\n",
    "    optimizer.zero_grad()\n",
    "    out = model(data.x, data.edge_index)\n",
    "    loss = F.cross_entropy(out[data.train_mask], data.y[data.train_mask])\n",
    "    loss.backward()\n",
    "    optimizer.step()\n",
    "    return loss.item()\n",
    "\n",
    "def test():\n",
    "    model.eval()\n",
    "    out = model(data.x, data.edge_index)\n",
    "    pred = out.argmax(dim=1)\n",
    "    correct = pred[data.test_mask] == data.y[data.test_mask]\n",
    "    acc = int(correct.sum()) / int(data.test_mask.sum())\n",
    "    return acc\n",
    "\n",
    "for epoch in range(300):\n",
    "    loss = train()\n",
    "    train_loss_history.append(loss)\n",
    "    accuracy = test()\n",
    "    test_accuracy_history.append(accuracy)\n",
    "    if epoch % 10 == 0:\n",
    "        print(f'Epoch: {epoch:03d}, Loss: {loss:.4f}, Accuracy: {accuracy:.4f}')\n",
    "\n",
    "print(\"Test Accuracy:\", test())"
   ]
  },
  {
   "cell_type": "markdown",
   "metadata": {
    "id": "T7nkr64U_T13"
   },
   "source": [
    "## Step 5: Plotting Loss and Accuracy\n",
    "\n",
    "Finally, we'll visualize the training loss and test accuracy using Matplotlib."
   ]
  },
  {
   "cell_type": "code",
   "execution_count": 9,
   "metadata": {
    "colab": {
     "base_uri": "https://localhost:8080/",
     "height": 487
    },
    "id": "ccl3eQ935N4t",
    "outputId": "837a657a-be42-401c-ec34-623b6704db97"
   },
   "outputs": [
    {
     "data": {
      "image/png": "[encoded data removed]",
      "text/plain": [
       "<Figure size 1500x500 with 2 Axes>"
      ]
     },
     "metadata": {},
     "output_type": "display_data"
    }
   ],
   "source": [
    "# Plotting loss and accuracy\n",
    "fig, (ax1, ax2) = plt.subplots(1, 2, figsize=(15, 5))\n",
    "\n",
    "ax1.plot(train_loss_history)\n",
    "ax1.set_xlabel(\"Epochs\")\n",
    "ax1.set_ylabel(\"Loss\")\n",
    "ax1.set_title(\"Training Loss\")\n",
    "\n",
    "ax2.plot(test_accuracy_history)\n",
    "ax2.set_xlabel(\"Epochs\")\n",
    "ax2.set_ylabel(\"Accuracy\")\n",
    "ax2.set_title(\"Test Accuracy\")\n",
    "\n",
    "plt.show()"
   ]
  },
  {
   "cell_type": "markdown",
   "metadata": {
    "id": "taQBac4G_aOt"
   },
   "source": [
    "## Conclusion\n",
    "\n",
    "In this tutorial, we implemented a GNN model to classify scientific publications in the Cora dataset. We trained the model and visualized the training progress. Experiment with different hyperparameters and architectures to see how the performance changes!\n"
   ]
  }
 ],
 "metadata": {
  "accelerator": "GPU",
  "colab": {
   "gpuType": "T4",
   "provenance": []
  },
  "kernelspec": {
   "display_name": "machine-learning-hats",
   "language": "python",
   "name": "machine-learning-hats"
  },
  "language_info": {
   "codemirror_mode": {
    "name": "ipython",
    "version": 3
   },
   "file_extension": ".py",
   "mimetype": "text/x-python",
   "name": "python",
   "nbconvert_exporter": "python",
   "pygments_lexer": "ipython3",
   "version": "3.11.4"
  }
 },
 "nbformat": 4,
 "nbformat_minor": 4
}

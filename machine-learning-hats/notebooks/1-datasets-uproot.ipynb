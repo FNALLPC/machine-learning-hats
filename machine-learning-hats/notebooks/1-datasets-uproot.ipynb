{
 "cells": [
  {
   "cell_type": "markdown",
   "metadata": {
    "slideshow": {
     "slide_type": ""
    },
    "tags": []
   },
   "source": [
    "# Loading Datasets\n",
    "Authors: Javier Duarte, Raghav Kansal\n"
   ]
  },
  {
   "cell_type": "markdown",
   "metadata": {},
   "source": [
    "## Load datasets from `ROOT` files using `uproot`\n",
    "Here we load the `ROOT` datasets in python using `uproot` (see: https://github.com/scikit-hep/uproot). For more information about how to use uproot, see the [`Uproot and Awkward Array for columnar analysis HATS@LPC 2023`](https://indico.cern.ch/event/1297663/) tutorial."
   ]
  },
  {
   "cell_type": "code",
   "execution_count": null,
   "metadata": {
    "slideshow": {
     "slide_type": ""
    },
    "tags": []
   },
   "outputs": [],
   "source": [
    "import uproot"
   ]
  },
  {
   "cell_type": "markdown",
   "metadata": {
    "slideshow": {
     "slide_type": ""
    },
    "tags": []
   },
   "source": [
    "Download datasets from Zenodo:"
   ]
  },
  {
   "cell_type": "code",
   "execution_count": null,
   "metadata": {
    "scrolled": true,
    "slideshow": {
     "slide_type": ""
    },
    "tags": [
     "hide-output"
    ]
   },
   "outputs": [],
   "source": [
    "%%bash\n",
    "mkdir -p data\n",
    "wget -O data/ntuple_4mu_bkg.root \"https://zenodo.org/record/3901869/files/ntuple_4mu_bkg.root?download=1\"\n",
    "wget -O data/ntuple_4mu_VV.root \"https://zenodo.org/record/3901869/files/ntuple_4mu_VV.root?download=1\""
   ]
  },
  {
   "cell_type": "markdown",
   "metadata": {
    "slideshow": {
     "slide_type": ""
    },
    "tags": []
   },
   "source": [
    "## Load `ROOT` files\n",
    "Here we simply open two `ROOT` files using `uproot` and display the branch content of one of the trees."
   ]
  },
  {
   "cell_type": "code",
   "execution_count": null,
   "metadata": {
    "slideshow": {
     "slide_type": ""
    },
    "tags": []
   },
   "outputs": [],
   "source": [
    "import numpy as np\n",
    "import h5py\n",
    "\n",
    "treename = \"HZZ4LeptonsAnalysisReduced\"\n",
    "filename = {}\n",
    "upfile = {}\n",
    "\n",
    "filename[\"bkg\"] = \"data/ntuple_4mu_bkg.root\"\n",
    "filename[\"VV\"] = \"data/ntuple_4mu_VV.root\"\n",
    "\n",
    "upfile[\"bkg\"] = uproot.open(filename[\"bkg\"])\n",
    "upfile[\"VV\"] = uproot.open(filename[\"VV\"])\n",
    "\n",
    "print(upfile[\"bkg\"][treename].show())"
   ]
  },
  {
   "cell_type": "markdown",
   "metadata": {
    "slideshow": {
     "slide_type": ""
    },
    "tags": []
   },
   "source": [
    "## Convert tree to `pandas` DataFrames\n",
    "In my opinion, `pandas` DataFrames are a more convenient/flexible data container in python: https://pandas.pydata.org/pandas-docs/stable/generated/pandas.DataFrame.html. "
   ]
  },
  {
   "cell_type": "code",
   "execution_count": null,
   "metadata": {
    "slideshow": {
     "slide_type": ""
    },
    "tags": []
   },
   "outputs": [],
   "source": [
    "import pandas as pd\n",
    "\n",
    "branches = [\"f_mass4l\", \"f_massjj\"]\n",
    "\n",
    "df = {}\n",
    "df[\"bkg\"] = upfile[\"bkg\"][treename].arrays(branches, library=\"pd\")\n",
    "df[\"VV\"] = upfile[\"VV\"][treename].arrays(branches, library=\"pd\")\n",
    "\n",
    "# print first entry\n",
    "print(df[\"bkg\"].iloc[:1])\n",
    "\n",
    "# print shape of DataFrame\n",
    "print(df[\"bkg\"].shape)\n",
    "\n",
    "# print first entry for f_mass4l and f_massjj\n",
    "print(df[\"bkg\"][branches].iloc[:1])\n",
    "\n",
    "# convert back into unstructured NumPY array\n",
    "print(df[\"bkg\"].values)\n",
    "print(df[\"bkg\"].values.shape)\n",
    "\n",
    "# get boolean mask array\n",
    "mask = df[\"bkg\"][\"f_mass4l\"] > 125\n",
    "print(mask)\n",
    "\n",
    "# cut using this boolean mask array\n",
    "print(df[\"bkg\"][\"f_mass4l\"][mask])"
   ]
  },
  {
   "cell_type": "markdown",
   "metadata": {
    "slideshow": {
     "slide_type": ""
    },
    "tags": []
   },
   "source": [
    "## Plotting in `matplotlib`\n",
    "\n",
    "Finally, it is always useful to visualize the dataset before using machine learning. Here, we plot some key features in `matplotlib` with `uproot`"
   ]
  },
  {
   "cell_type": "code",
   "execution_count": null,
   "metadata": {
    "slideshow": {
     "slide_type": ""
    },
    "tags": []
   },
   "outputs": [],
   "source": [
    "import matplotlib.pyplot as plt\n",
    "\n",
    "%matplotlib inline\n",
    "\n",
    "VARS = [\"f_mass4l\", \"f_massjj\"]\n",
    "\n",
    "plt.figure(figsize=(5, 4), dpi=100)\n",
    "bins = np.linspace(80, 140, 100)\n",
    "df[\"bkg\"][VARS[0]].plot.hist(bins=bins, alpha=1, label=\"bkg\", histtype=\"step\")\n",
    "df[\"VV\"][VARS[0]].plot.hist(bins=bins, alpha=1, label=\"VV\", histtype=\"step\")\n",
    "plt.legend(loc=\"upper right\")\n",
    "plt.xlim(80, 140)\n",
    "plt.xlabel(VARS[0])\n",
    "plt.show()\n",
    "\n",
    "plt.figure(figsize=(5, 4), dpi=100)\n",
    "bins = np.linspace(0, 2000, 100)\n",
    "df[\"bkg\"][VARS[1]].plot.hist(bins=bins, alpha=1, label=\"bkg\", histtype=\"step\")\n",
    "df[\"VV\"][VARS[1]].plot.hist(bins=bins, alpha=1, label=\"VV\", histtype=\"step\")\n",
    "plt.legend(loc=\"upper right\")\n",
    "plt.xlim(0, 2000)\n",
    "plt.xlabel(VARS[1])\n",
    "plt.show()"
   ]
  },
  {
   "cell_type": "code",
   "execution_count": null,
   "metadata": {
    "slideshow": {
     "slide_type": ""
    },
    "tags": []
   },
   "outputs": [],
   "source": []
  }
 ],
 "metadata": {
  "kernelspec": {
   "display_name": "machine-learning-hats-2023",
   "language": "python",
   "name": "python3"
  },
  "language_info": {
   "codemirror_mode": {
    "name": "ipython",
    "version": 3
   },
   "file_extension": ".py",
   "mimetype": "text/x-python",
   "name": "python",
   "nbconvert_exporter": "python",
   "pygments_lexer": "ipython3",
   "version": "3.10.0"
  }
 },
 "nbformat": 4,
 "nbformat_minor": 4
}
